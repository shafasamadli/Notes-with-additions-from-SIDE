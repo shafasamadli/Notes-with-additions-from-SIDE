{
 "cells": [
  {
   "cell_type": "code",
   "execution_count": 4,
   "id": "2b9d8f1d",
   "metadata": {},
   "outputs": [
    {
     "name": "stdout",
     "output_type": "stream",
     "text": [
      "First line\n",
      " \n",
      "\n",
      "Second line\n",
      " \n",
      "\n",
      "Third line \n",
      "\n"
     ]
    }
   ],
   "source": [
    "temp_file = open('./temp.txt')\n",
    "for i in temp_file:\n",
    "    print(i,\"\\n\")"
   ]
  },
  {
   "cell_type": "code",
   "execution_count": 9,
   "id": "cc9a17a8",
   "metadata": {},
   "outputs": [],
   "source": [
    "# read file and write them to new file\n",
    "input_file = open('input/temp.txt', 'r')\n",
    "output_file = open('input/output.txt', 'w')\n",
    "\n",
    "for line_str in input_file:\n",
    "    new_str = ''\n",
    "    line_str = line_str.strip() # remove carriage return\n",
    "    for char in line_str[::-1]: # concat at the left (reverse)\n",
    "        new_str += char\n",
    "    print(new_str, file=output_file)\n",
    "    \n",
    "    # include a print to shell so we can observe progress\n",
    "    print('Line: {:12s} reversed is: {:s}'.format(line_str, new_str))\n",
    "    \n",
    "input_file.close()\n",
    "output_file.close()"
   ]
  },
  {
   "cell_type": "markdown",
   "id": "5e0dc627",
   "metadata": {},
   "source": [
    "Note :  print('Line: {:12s} reversed is: {:s}'.format(line_str, new_str))\n",
    "it is the second way of using format method \n",
    "Line: {:12s} reversed  show that print result with 12 spaces between the 'Line:' word and reversed \n",
    "12 = gap+result+gap until reversed word\n",
    "\n",
    "output=> Line: First line   reversed is: enil tsriF"
   ]
  },
  {
   "cell_type": "markdown",
   "id": "2b12ea79",
   "metadata": {},
   "source": [
    "FILE HANDLING"
   ]
  },
  {
   "cell_type": "raw",
   "id": "c73b55b3",
   "metadata": {},
   "source": [
    "The try suite contains code that we, as programmers, want to “watch over” for possible runtime errors. That is, we are concerned about a suite of code that might cause a runtime error.\n",
    "Each except clause has associated with it a particular Python error name, of code that will run, if that particular error occurs.\n",
    "\n",
    "try:\n",
    "    # suite of code to watch here\n",
    "except:\n",
    "    # suite of code to handle the named error, if it occurs"
   ]
  },
  {
   "cell_type": "code",
   "execution_count": 10,
   "id": "d80b6406",
   "metadata": {},
   "outputs": [
    {
     "name": "stdout",
     "output_type": "stream",
     "text": [
      "5\n",
      "division by zero\n"
     ]
    }
   ],
   "source": [
    "n = int(input())\n",
    "try:\n",
    "    print(n/0)\n",
    "except Exception as err:\n",
    "    print(err) "
   ]
  },
  {
   "cell_type": "markdown",
   "id": "6f110aaf",
   "metadata": {},
   "source": [
    "The best way of showing name of error is using this method => except Exception as err:   \n",
    "                                                                      print(err)\n",
    "\n",
    "\n",
    "n = int(input())\n",
    "try:\n",
    "    print(n/0)\n",
    "except Exception as err:\n",
    "    print(err) "
   ]
  },
  {
   "cell_type": "code",
   "execution_count": 14,
   "id": "fd3231ad",
   "metadata": {
    "scrolled": true
   },
   "outputs": [
    {
     "name": "stdout",
     "output_type": "stream",
     "text": [
      "5\n",
      "unsupported operand type(s) for /: 'str' and 'int'\n",
      "<class 'str'>\n"
     ]
    }
   ],
   "source": [
    "n=input()\n",
    "try:\n",
    "    print(n+(n/5))\n",
    "except Exception as err:\n",
    "    print(err)\n",
    "finally:\n",
    "    print(type(n))"
   ]
  },
  {
   "cell_type": "markdown",
   "id": "958d42bc",
   "metadata": {},
   "source": [
    "finally statements always execured, the error doesn't matter\n",
    "\n",
    "n=input()\n",
    "try:\n",
    "    print(n+(n/5))\n",
    "except Exception as err:\n",
    "    print(err)\n",
    "finally:\n",
    "    print(type(n))"
   ]
  },
  {
   "cell_type": "code",
   "execution_count": 15,
   "id": "98e1b725",
   "metadata": {},
   "outputs": [
    {
     "name": "stdout",
     "output_type": "stream",
     "text": [
      "5\n",
      "unsupported operand type(s) for /: 'str' and 'int'\n",
      "<class 'str'>\n"
     ]
    }
   ],
   "source": [
    "n=input()\n",
    "try:\n",
    "    print(n+(n/5))\n",
    "except Exception as err:\n",
    "    print(err)\n",
    "else:\n",
    "    print(\"Nothing went wrong\")\n",
    "finally:\n",
    "    print(type(n))"
   ]
  },
  {
   "cell_type": "code",
   "execution_count": 16,
   "id": "4ce1495f",
   "metadata": {},
   "outputs": [
    {
     "name": "stdout",
     "output_type": "stream",
     "text": [
      "5\n",
      "6.0\n",
      "Nothing went wrong\n",
      "<class 'int'>\n"
     ]
    }
   ],
   "source": [
    "n=int(input())\n",
    "try:\n",
    "    print(n+(n/5))\n",
    "except Exception as err:\n",
    "    print(err)\n",
    "else:\n",
    "    print(\"Nothing went wrong\")\n",
    "finally:\n",
    "    print(type(n))"
   ]
  },
  {
   "cell_type": "markdown",
   "id": "c4b0d971",
   "metadata": {},
   "source": [
    "When error exist in this case just except and finally printed\n",
    "\n",
    "When error doesn't exist try,else, finally will be print"
   ]
  },
  {
   "cell_type": "markdown",
   "id": "edc62eab",
   "metadata": {},
   "source": [
    "Note:\n",
    "human - class\n",
    "name of individuals - object\n",
    "voice of them - attribute\n",
    "behavior of them - method "
   ]
  },
  {
   "cell_type": "code",
   "execution_count": null,
   "id": "dd7205cc",
   "metadata": {},
   "outputs": [],
   "source": [
    "data_file = open('input/dictionary.txt', 'r')\n",
    "\n",
    "def clean_word(word):\n",
    "    '''Return word in lowercase stripped of whitespace.'''\n",
    "    return word.strip().lower()\n",
    "\n",
    "def get_vowels_in_word(word):\n",
    "    '''Return vowels in string word−−include repeats.'''\n",
    "    vowel_str = 'aeiou'\n",
    "    vowels_in_word = ''\n",
    "    \n",
    "    for char in word:\n",
    "        if char in vowel_str:\n",
    "            vowels_in_word += char\n",
    "    return vowels_in_word\n",
    "\n",
    "\n",
    "print('Find words containing vowels aeiou in that order:')\n",
    "\n",
    "for word in data_file:\n",
    "    word = clean_word(word)\n",
    "    if len(word) <= 6:\n",
    "        continue\n",
    "    vowel_str = get_vowels_in_word(word)\n",
    "    if vowel_str == 'aeiou':\n",
    "        print(word)"
   ]
  },
  {
   "cell_type": "code",
   "execution_count": null,
   "id": "56ff539a",
   "metadata": {},
   "outputs": [],
   "source": [
    "# Functions that do not return a value are often called procedures\n",
    "# Python value None is returned by default if the programmer does not provide a return statement"
   ]
  },
  {
   "cell_type": "markdown",
   "id": "f6746d9d",
   "metadata": {},
   "source": [
    "Diqqet!!! Explanation\n",
    "\n",
    "Bu programda deyir ki, ilk olaraq verdiyin ededin 0-dan boyuk olub-olmadigini yoxla \n",
    "Daha sonra ise total-i verilmis qayda ile hesabla ANCAQ burda vacib bir detal var ki bu eded azalib 0-a catana qeder dovr davam edir ve son neticeni print edir yeni butun cemi "
   ]
  },
  {
   "cell_type": "code",
   "execution_count": 1,
   "id": "de50034c",
   "metadata": {},
   "outputs": [
    {
     "name": "stdout",
     "output_type": "stream",
     "text": [
      "40\n",
      "0\n"
     ]
    }
   ],
   "source": [
    "def Func(number):\n",
    "    '''What does this function do? What does it return for num = 5?'''\n",
    "    total = 0\n",
    "    \n",
    "    while number > 0:\n",
    "        total = total + number*(number-1)\n",
    "        number = number - 1\n",
    "    return total\n",
    "# 0+ (5*4)+(4*3)+(3*2)+(2*1)\n",
    "print(Func(5))\n",
    "print(Func(-10))"
   ]
  },
  {
   "cell_type": "code",
   "execution_count": null,
   "id": "e86b9d5f",
   "metadata": {},
   "outputs": [],
   "source": [
    "def Func(number):\n",
    "    '''What does this function do? What does it return for num = 5?'''\n",
    "    total = 0\n",
    "    \n",
    "    while number > 0:\n",
    "        total = total + number*(number-1)\n",
    "        #number = number - 1\n",
    "    return total\n",
    "# 0+ (5*4)+(4*3)+(3*2)+(2*1)\n",
    "print(Func(5))\n",
    "print(Func(-10))"
   ]
  },
  {
   "cell_type": "markdown",
   "id": "3f61ebb0",
   "metadata": {},
   "source": [
    "Bayaqki function ile bunun ferqi ondadir ki her production(totalin dusturunda olan) hesablandiqdan sonra number her defesinde azalir lakin asagidaki example-da ise eded(number) her production merhelesinin icinde yani totali hesablayarken bas verir "
   ]
  },
  {
   "cell_type": "code",
   "execution_count": null,
   "id": "1c025658",
   "metadata": {},
   "outputs": [],
   "source": [
    "def Func(x):\n",
    "    '''What does this function do? What does it return if x = 5?'''\n",
    "    total = 0 \n",
    "    \n",
    "    for i in range (x): \n",
    "        total += i * (i-1) \n",
    "    return total\n",
    "print(Func(5))"
   ]
  },
  {
   "cell_type": "markdown",
   "id": "612543d1",
   "metadata": {},
   "source": [
    "PAY ATTENTION TO THE PLACE OF RETURN STATEMENT "
   ]
  },
  {
   "cell_type": "code",
   "execution_count": null,
   "id": "905b8c00",
   "metadata": {},
   "outputs": [],
   "source": [
    "def Func():\n",
    "    '''What does this function do? What number is returned by this function?'''\n",
    "    number = 1.0\n",
    "    total = 0\n",
    "    \n",
    "    while number < 100:\n",
    "        total = 1//number\n",
    "        number+=1\n",
    "    return total\n",
    "print(Func()) # answer is 0.0"
   ]
  },
  {
   "cell_type": "code",
   "execution_count": null,
   "id": "5def5986",
   "metadata": {},
   "outputs": [],
   "source": [
    "def Func():\n",
    "    '''What does this function do? What number is returned by this function?'''\n",
    "    number = 1.0\n",
    "    total = 0\n",
    "    \n",
    "    while number < 100:\n",
    "        total = 1//number\n",
    "        number+=1\n",
    "        return total\n",
    "print(Func())  # answer is 2.0"
   ]
  },
  {
   "cell_type": "code",
   "execution_count": null,
   "id": "8b0d2e23",
   "metadata": {},
   "outputs": [],
   "source": []
  },
  {
   "cell_type": "code",
   "execution_count": null,
   "id": "438613b0",
   "metadata": {},
   "outputs": [],
   "source": []
  },
  {
   "cell_type": "code",
   "execution_count": null,
   "id": "cacb1093",
   "metadata": {},
   "outputs": [],
   "source": []
  }
 ],
 "metadata": {
  "kernelspec": {
   "display_name": "Python 3 (ipykernel)",
   "language": "python",
   "name": "python3"
  },
  "language_info": {
   "codemirror_mode": {
    "name": "ipython",
    "version": 3
   },
   "file_extension": ".py",
   "mimetype": "text/x-python",
   "name": "python",
   "nbconvert_exporter": "python",
   "pygments_lexer": "ipython3",
   "version": "3.9.7"
  }
 },
 "nbformat": 4,
 "nbformat_minor": 5
}
